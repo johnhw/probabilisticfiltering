{
 "cells": [
  {
   "cell_type": "markdown",
   "metadata": {},
   "source": [
    "#### ACM SIGCHI 2017 Course on Computational Interaction\n",
    "\n",
    "\n",
    "# [Title]\n",
    "### <font color=\"green\"> [subtitle] </font>\n",
    " \n",
    "#### <b>[name]</b> / [affiliation]\n",
    "\n",
    "[relevant pretty pictures here]"
   ]
  },
  {
   "cell_type": "markdown",
   "metadata": {},
   "source": [
    "--------------------------"
   ]
  },
  {
   "cell_type": "markdown",
   "metadata": {},
   "source": [
    "## Introduction [7 mins]\n",
    "### What is [x]?\n",
    "[ELI5 two or three sentences here.]\n",
    "### Why is this computational HCI?\n",
    "[and not just plain old HCI]\n",
    "### What are existing techniques?\n",
    "[i.e. non-computational techniques and why they aren't as good]\n",
    "### Benefits\n",
    "[What can be acheived that was not possible before]\n",
    "### History\n",
    "[how did this come about, maybe in two or three papers]"
   ]
  },
  {
   "cell_type": "markdown",
   "metadata": {},
   "source": [
    "## Principles [28 mins]\n",
    "### Overview diagram"
   ]
  },
  {
   "cell_type": "markdown",
   "metadata": {},
   "source": [
    "### Use case\n",
    "### Problem description\n",
    "We are going to solve xxx\n",
    "### Meat\n",
    "Meat goes here!"
   ]
  },
  {
   "cell_type": "markdown",
   "metadata": {},
   "source": [
    "### Gallery\n",
    "Research papers here (thumbnail + link), short description of why cool"
   ]
  },
  {
   "cell_type": "markdown",
   "metadata": {},
   "source": [
    "### Pitfalls\n",
    "Hands-on guru knowledge goes here."
   ]
  },
  {
   "cell_type": "markdown",
   "metadata": {},
   "source": [
    "## Outlook [5 mins]\n",
    "### Scope and limitations\n",
    "\n",
    "### Resources\n",
    "How do I learn to do this in depth? Blogs, papers, software, videos, online courses, etc.\n",
    "\n",
    "### Future\n",
    "How will this evolve over the next few years."
   ]
  }
 ],
 "metadata": {
  "kernelspec": {
   "display_name": "Python 2",
   "language": "python",
   "name": "python2"
  },
  "language_info": {
   "codemirror_mode": {
    "name": "ipython",
    "version": 2
   },
   "file_extension": ".py",
   "mimetype": "text/x-python",
   "name": "python",
   "nbconvert_exporter": "python",
   "pygments_lexer": "ipython2",
   "version": "2.7.12"
  }
 },
 "nbformat": 4,
 "nbformat_minor": 0
}
